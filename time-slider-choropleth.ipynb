{
 "cells": [
  {
   "cell_type": "markdown",
   "metadata": {},
   "source": [
    "# Choropleth Map with Time Slider"
   ]
  },
  {
   "cell_type": "code",
   "execution_count": 1,
   "metadata": {},
   "outputs": [
    {
     "name": "stdout",
     "output_type": "stream",
     "text": [
      "0.8.3\n"
     ]
    }
   ],
   "source": [
    "import pandas as pd\n",
    "from sodapy import Socrata\n",
    "from config import API_Key, username, password\n",
    "import numpy as np\n",
    "import requests\n",
    "import json\n",
    "import matplotlib.pyplot as plt\n",
    "import re, datetime\n",
    "import os\n",
    "import folium\n",
    "import json\n",
    "print(folium.__version__)\n",
    "import geopandas as gdp"
   ]
  },
  {
   "cell_type": "markdown",
   "metadata": {},
   "source": [
    "## 1. Load and clean data from API"
   ]
  },
  {
   "cell_type": "code",
   "execution_count": 2,
   "metadata": {},
   "outputs": [],
   "source": [
    "# Example authenticated client (needed for non-public datasets):\n",
    "client = Socrata(\"data.cityofnewyork.us\", API_Key, username, password)\n",
    "\n",
    "# Returned as JSON from API by sodapy.\n",
    "data = client.get(\"43nn-pn8j\",limit=381912)"
   ]
  },
  {
   "cell_type": "code",
   "execution_count": 3,
   "metadata": {},
   "outputs": [
    {
     "name": "stdout",
     "output_type": "stream",
     "text": [
      "<class 'pandas.core.frame.DataFrame'>\n",
      "RangeIndex: 381912 entries, 0 to 381911\n",
      "Data columns (total 18 columns):\n",
      "action                   381230 non-null object\n",
      "boro                     381912 non-null object\n",
      "building                 381691 non-null object\n",
      "camis                    381912 non-null object\n",
      "critical_flag            381912 non-null object\n",
      "cuisine_description      381912 non-null object\n",
      "dba                      381701 non-null object\n",
      "grade                    192655 non-null object\n",
      "grade_date               190370 non-null object\n",
      "inspection_date          381912 non-null object\n",
      "inspection_type          381230 non-null object\n",
      "phone                    381903 non-null object\n",
      "record_date              381912 non-null object\n",
      "score                    364453 non-null float64\n",
      "street                   381912 non-null object\n",
      "violation_code           376768 non-null object\n",
      "violation_description    374047 non-null object\n",
      "zipcode                  376396 non-null object\n",
      "dtypes: float64(1), object(17)\n",
      "memory usage: 52.4+ MB\n"
     ]
    }
   ],
   "source": [
    "# Convert to dataframe\n",
    "data_df = pd.DataFrame.from_records(data)\n",
    "data_df.score = data_df.score.astype(float)\n",
    "data_df.info()"
   ]
  },
  {
   "cell_type": "code",
   "execution_count": 4,
   "metadata": {},
   "outputs": [
    {
     "data": {
      "text/plain": [
       "0    2018\n",
       "1    2018\n",
       "2    2017\n",
       "3    2017\n",
       "4    2016\n",
       "Name: inspection_date, dtype: int64"
      ]
     },
     "execution_count": 4,
     "metadata": {},
     "output_type": "execute_result"
    }
   ],
   "source": [
    "data_df['inspection_date'] = data_df['inspection_date'].apply(lambda x: datetime.datetime.strptime(x,'%Y-%m-%dT%H:%M:%S.%f').year)\n",
    "data_df['inspection_date'].head()"
   ]
  },
  {
   "cell_type": "code",
   "execution_count": 5,
   "metadata": {},
   "outputs": [
    {
     "data": {
      "text/html": [
       "<div>\n",
       "<style scoped>\n",
       "    .dataframe tbody tr th:only-of-type {\n",
       "        vertical-align: middle;\n",
       "    }\n",
       "\n",
       "    .dataframe tbody tr th {\n",
       "        vertical-align: top;\n",
       "    }\n",
       "\n",
       "    .dataframe thead th {\n",
       "        text-align: right;\n",
       "    }\n",
       "</style>\n",
       "<table border=\"1\" class=\"dataframe\">\n",
       "  <thead>\n",
       "    <tr style=\"text-align: right;\">\n",
       "      <th></th>\n",
       "      <th>inspection_date</th>\n",
       "      <th>zipcode</th>\n",
       "      <th>score</th>\n",
       "    </tr>\n",
       "  </thead>\n",
       "  <tbody>\n",
       "    <tr>\n",
       "      <th>0</th>\n",
       "      <td>2011</td>\n",
       "      <td>11420.0</td>\n",
       "      <td>2.000000</td>\n",
       "    </tr>\n",
       "    <tr>\n",
       "      <th>1</th>\n",
       "      <td>2012</td>\n",
       "      <td>11420.0</td>\n",
       "      <td>7.000000</td>\n",
       "    </tr>\n",
       "    <tr>\n",
       "      <th>2</th>\n",
       "      <td>2013</td>\n",
       "      <td>10004.0</td>\n",
       "      <td>0.000000</td>\n",
       "    </tr>\n",
       "    <tr>\n",
       "      <th>3</th>\n",
       "      <td>2013</td>\n",
       "      <td>11205.0</td>\n",
       "      <td>4.000000</td>\n",
       "    </tr>\n",
       "    <tr>\n",
       "      <th>4</th>\n",
       "      <td>2013</td>\n",
       "      <td>11420.0</td>\n",
       "      <td>14.833333</td>\n",
       "    </tr>\n",
       "  </tbody>\n",
       "</table>\n",
       "</div>"
      ],
      "text/plain": [
       "   inspection_date  zipcode      score\n",
       "0             2011  11420.0   2.000000\n",
       "1             2012  11420.0   7.000000\n",
       "2             2013  10004.0   0.000000\n",
       "3             2013  11205.0   4.000000\n",
       "4             2013  11420.0  14.833333"
      ]
     },
     "execution_count": 5,
     "metadata": {},
     "output_type": "execute_result"
    }
   ],
   "source": [
    "data_df.head()\n",
    "ready_score = data_df.groupby(['inspection_date','zipcode'])['score'].mean().dropna()\n",
    "ready_score = pd.DataFrame(ready_score).reset_index()\n",
    "ready_score.zipcode = ready_score.zipcode.astype(float)\n",
    "ready_score.head()"
   ]
  },
  {
   "cell_type": "markdown",
   "metadata": {},
   "source": [
    "## 2. Data preparation\n",
    "- Get a geojson that contains all the features\n",
    "- Prepare a dictionary in which the keys are the feature-ids with key-value pairs for color and opacity information\n",
    "- Example of the dictionary format\n",
    "<br>styledict = {\n",
    "    '0': {\n",
    "        '2017-1-1': {'color': 'ffffff', 'opacity': 1}\n",
    "        '2017-1-2': {'color': 'fffff0', 'opacity': 1}\n",
    "        ...\n",
    "        },\n",
    "    ...,\n",
    "    'n': {\n",
    "        '2017-1-1': {'color': 'ffffff', 'opacity': 1}\n",
    "        '2017-1-2': {'color': 'fffff0', 'opacity': 1}\n",
    "        ...\n",
    "        }\n",
    "}"
   ]
  },
  {
   "cell_type": "markdown",
   "metadata": {},
   "source": [
    "### Find GeoJSON and load GeoJSON\n",
    "- Source for GeoJSON of NYC: <br> http://data.beta.nyc/dataset/nyc-zip-code-tabulation-areas/resource/6df127b1-6d04-4bb7-b983-07402a2c3f90?view_id=b34c6552-9fdb-4f95-8810-0588ad1a4cc8\n",
    "- GeoJSON is needed to represent the boundaries of each zip code in NYC"
   ]
  },
  {
   "cell_type": "code",
   "execution_count": 6,
   "metadata": {},
   "outputs": [
    {
     "data": {
      "text/plain": [
       "{'type': 'Feature',\n",
       " 'properties': {'OBJECTID': 2,\n",
       "  'postalCode': '11004',\n",
       "  'PO_NAME': 'Glen Oaks',\n",
       "  'STATE': 'NY',\n",
       "  'borough': 'Queens',\n",
       "  'ST_FIPS': '36',\n",
       "  'CTY_FIPS': '081',\n",
       "  'BLDGpostal': 0,\n",
       "  '@id': 'http://nyc.pediacities.com/Resource/PostalCode/11004',\n",
       "  'longitude': -73.711608312,\n",
       "  'latitude': 40.745365835},\n",
       " 'geometry': {'type': 'Polygon',\n",
       "  'coordinates': [[[-73.71132911125308, 40.74947450816085],\n",
       "    [-73.7106837407401, 40.75004039450918],\n",
       "    [-73.70869392379949, 40.74875836557177],\n",
       "    [-73.70713084684176, 40.749582740537946],\n",
       "    [-73.70419967936363, 40.750169552569766],\n",
       "    [-73.70218528698231, 40.744741887753854],\n",
       "    [-73.70308721830736, 40.744547257355144],\n",
       "    [-73.70098278625547, 40.73889569923034],\n",
       "    [-73.71371033246908, 40.736174704865455],\n",
       "    [-73.714741836008, 40.73782936804115],\n",
       "    [-73.71567895968894, 40.73962914915626],\n",
       "    [-73.71867075939582, 40.74631499057428],\n",
       "    [-73.71966142935703, 40.748945236431474],\n",
       "    [-73.72082889049311, 40.751173028173014],\n",
       "    [-73.72117809110456, 40.75232189224561],\n",
       "    [-73.72250622247415, 40.753358470814895],\n",
       "    [-73.72270447144122, 40.75373371438336],\n",
       "    [-73.72183610276068, 40.75486513130315],\n",
       "    [-73.72109289651769, 40.7562813418113],\n",
       "    [-73.71775341502477, 40.75534755942338],\n",
       "    [-73.71730957335735, 40.75595782995615],\n",
       "    [-73.71534601002345, 40.75550893330126],\n",
       "    [-73.71553103019596, 40.75506458072391],\n",
       "    [-73.71541781535772, 40.7549984440815],\n",
       "    [-73.71509806179287, 40.75181177075926],\n",
       "    [-73.71132911125308, 40.74947450816085]]]}}"
      ]
     },
     "execution_count": 6,
     "metadata": {},
     "output_type": "execute_result"
    }
   ],
   "source": [
    "# Load GeoJSON\n",
    "with open('nyc-zipcode.geojson','r') as jsonFile:\n",
    "    geo_data = json.load(jsonFile)\n",
    "geojson_zip = geo_data\n",
    "\n",
    "geojson_zip['features'][1]"
   ]
  },
  {
   "cell_type": "code",
   "execution_count": 7,
   "metadata": {},
   "outputs": [
    {
     "data": {
      "text/plain": [
       "45"
      ]
     },
     "execution_count": 7,
     "metadata": {},
     "output_type": "execute_result"
    }
   ],
   "source": [
    "# Remove zip code not in our df\n",
    "geozips = []\n",
    "for i in range(len(geojson_zip['features'])):\n",
    "    if geojson_zip['features'][i]['properties']['postalCode'] in list(ready_score['zipcode'].unique()):\n",
    "        geozips.append(geojson_zip['features'][i])\n",
    "\n",
    "# Create new json object\n",
    "clean_json = dict.fromkeys(['type','features'])\n",
    "clean_json['type'] = 'Feature'\n",
    "clean_json['features'] = geozips\n",
    "\n",
    "# Save clean json as clean-json\n",
    "open(\"slider-clean-json.json\", \"w\").write(\n",
    "    json.dumps(clean_json, sort_keys=True, indent=4, separators=(',',': ')))"
   ]
  },
  {
   "cell_type": "markdown",
   "metadata": {},
   "source": [
    "### Create appropriate data dictionary"
   ]
  },
  {
   "cell_type": "code",
   "execution_count": 8,
   "metadata": {},
   "outputs": [
    {
     "data": {
      "image/png": "[encoded data removed]",
      "text/plain": [
       "<Figure size 432x288 with 1 Axes>"
      ]
     },
     "metadata": {
      "needs_background": "light"
     },
     "output_type": "display_data"
    }
   ],
   "source": [
    "plot_ready_score = ready_score.groupby([\"inspection_date\",\"zipcode\"])['score'].mean()\n",
    "plot_ready_score = pd.DataFrame(plot_ready_score)\n",
    "ax = plot_ready_score.plot()"
   ]
  },
  {
   "cell_type": "code",
   "execution_count": 9,
   "metadata": {},
   "outputs": [
    {
     "data": {
      "text/html": [
       "<div>\n",
       "<style scoped>\n",
       "    .dataframe tbody tr th:only-of-type {\n",
       "        vertical-align: middle;\n",
       "    }\n",
       "\n",
       "    .dataframe tbody tr th {\n",
       "        vertical-align: top;\n",
       "    }\n",
       "\n",
       "    .dataframe thead th {\n",
       "        text-align: right;\n",
       "    }\n",
       "</style>\n",
       "<table border=\"1\" class=\"dataframe\">\n",
       "  <thead>\n",
       "    <tr style=\"text-align: right;\">\n",
       "      <th></th>\n",
       "      <th>zipcode</th>\n",
       "      <th>score</th>\n",
       "    </tr>\n",
       "    <tr>\n",
       "      <th>inspection_date</th>\n",
       "      <th></th>\n",
       "      <th></th>\n",
       "    </tr>\n",
       "  </thead>\n",
       "  <tbody>\n",
       "    <tr>\n",
       "      <th>2011</th>\n",
       "      <td>11420.0</td>\n",
       "      <td>2.000000</td>\n",
       "    </tr>\n",
       "    <tr>\n",
       "      <th>2012</th>\n",
       "      <td>11420.0</td>\n",
       "      <td>7.000000</td>\n",
       "    </tr>\n",
       "    <tr>\n",
       "      <th>2013</th>\n",
       "      <td>10004.0</td>\n",
       "      <td>0.000000</td>\n",
       "    </tr>\n",
       "    <tr>\n",
       "      <th>2013</th>\n",
       "      <td>11205.0</td>\n",
       "      <td>4.000000</td>\n",
       "    </tr>\n",
       "    <tr>\n",
       "      <th>2013</th>\n",
       "      <td>11420.0</td>\n",
       "      <td>14.833333</td>\n",
       "    </tr>\n",
       "  </tbody>\n",
       "</table>\n",
       "</div>"
      ],
      "text/plain": [
       "                 zipcode      score\n",
       "inspection_date                    \n",
       "2011             11420.0   2.000000\n",
       "2012             11420.0   7.000000\n",
       "2013             10004.0   0.000000\n",
       "2013             11205.0   4.000000\n",
       "2013             11420.0  14.833333"
      ]
     },
     "execution_count": 9,
     "metadata": {},
     "output_type": "execute_result"
    }
   ],
   "source": [
    "plot_ready_score = plot_ready_score.reset_index()\n",
    "plot_ready_score = plot_ready_score.set_index('inspection_date')\n",
    "plot_ready_score.head()"
   ]
  },
  {
   "cell_type": "code",
   "execution_count": null,
   "metadata": {},
   "outputs": [],
   "source": []
  },
  {
   "cell_type": "code",
   "execution_count": 10,
   "metadata": {},
   "outputs": [
    {
     "ename": "NameError",
     "evalue": "name 'zipcode' is not defined",
     "output_type": "error",
     "traceback": [
      "\u001b[1;31m---------------------------------------------------------------------------\u001b[0m",
      "\u001b[1;31mNameError\u001b[0m                                 Traceback (most recent call last)",
      "\u001b[1;32m<ipython-input-10-6e05c95f95b5>\u001b[0m in \u001b[0;36m<module>\u001b[1;34m\u001b[0m\n\u001b[0;32m      1\u001b[0m style_score = {str(zipcode): data.to_dict() for\n\u001b[1;32m----> 2\u001b[1;33m     country, data in plot_ready_score.items()}\n\u001b[0m",
      "\u001b[1;32m<ipython-input-10-6e05c95f95b5>\u001b[0m in \u001b[0;36m<dictcomp>\u001b[1;34m(.0)\u001b[0m\n\u001b[0;32m      1\u001b[0m style_score = {str(zipcode): data.to_dict() for\n\u001b[1;32m----> 2\u001b[1;33m     country, data in plot_ready_score.items()}\n\u001b[0m",
      "\u001b[1;31mNameError\u001b[0m: name 'zipcode' is not defined"
     ]
    }
   ],
   "source": [
    "style_score = {str(zipcode): data.to_dict() for\n",
    "    country, data in plot_ready_score.items()}"
   ]
  },
  {
   "cell_type": "markdown",
   "metadata": {},
   "source": [
    "## 4. Create folium maps"
   ]
  },
  {
   "cell_type": "code",
   "execution_count": null,
   "metadata": {},
   "outputs": [],
   "source": []
  },
  {
   "cell_type": "code",
   "execution_count": null,
   "metadata": {},
   "outputs": [],
   "source": [
    "from folium.plugins import TimeSliderChoropleth"
   ]
  },
  {
   "cell_type": "code",
   "execution_count": null,
   "metadata": {},
   "outputs": [],
   "source": []
  },
  {
   "cell_type": "markdown",
   "metadata": {},
   "source": [
    "## 6. Choropleth map with folium"
   ]
  },
  {
   "cell_type": "code",
   "execution_count": null,
   "metadata": {},
   "outputs": [],
   "source": [
    "# table = main table/data frame we read from (pandas DataFrame)\n",
    "# zips = column name where ZIP codes are (string)\n",
    "# mapped_feature = column name for feature we want to visualize (string)\n",
    "# add_text = any additional commentary to be added in the map legend (string)\n",
    "\n",
    "def create_map(table, zips, mapped_feature, color = 'RdYlGn', add_text = ''):\n",
    "    nyc_geo = r'clean-json.json'\n",
    "    m = folium.Map(location = [40.730610, -73.935242],\n",
    "                   tiles='Mapbox Bright')\n",
    "    folium.Choropleth(\n",
    "        geo_data = nyc_geo, data = table,\n",
    "        key_on = 'feature.properties.postalCode',\n",
    "        columns = [zips, mapped_feature],\n",
    "        fill_color = color, fill_opacity = 0.7, line_opacity = 0.2,\n",
    "        legend_name = (' ').join(mapped_feature.split('_')).title() + ' ' + add_text + ' Across NYC'\n",
    "    ).add_to(m)\n",
    "    m.add_child(folium.LatLngPopup())\n",
    "    folium.LayerControl().add_to(m)\n",
    "    m.save(outfile = mapped_feature + '_map.html')\n",
    "    return m"
   ]
  },
  {
   "cell_type": "code",
   "execution_count": null,
   "metadata": {},
   "outputs": [],
   "source": [
    "create_map(score_map, 'zipcode', 'avg_score', add_text='of Restaurants')"
   ]
  },
  {
   "cell_type": "code",
   "execution_count": null,
   "metadata": {},
   "outputs": [],
   "source": [
    "create_map(score_map, 'zipcode', 'total_restaurants', 'BuPu')\n"
   ]
  },
  {
   "cell_type": "code",
   "execution_count": null,
   "metadata": {},
   "outputs": [],
   "source": [
    "nyc_geo = r'clean-json.json'\n",
    "m = folium.Map(location = [40.730610, -73.935242],\n",
    "                   tiles='Mapbox Bright')\n",
    "folium.Choropleth(\n",
    "        geo_data = nyc_geo, data = score_map,\n",
    "        key_on = 'feature.properties.postalCode',\n",
    "        columns = ['zipcode', 'avg_score'],\n",
    "        fill_color = 'RdYlGn', fill_opacity = 0.7, line_opacity = 0.2,\n",
    "        legend_name = (' ').join('avg_score'.split('_')).title() + ' ' + 'of Restaurants' + ' Across NYC'\n",
    "    ).add_to(m)\n",
    "m.add_child(folium.LatLngPopup())\n",
    "folium.LayerControl().add_to(m)\n",
    "#m.save(outfile = mapped_feature + '_map.html')\n",
    "m"
   ]
  },
  {
   "cell_type": "code",
   "execution_count": null,
   "metadata": {},
   "outputs": [],
   "source": []
  }
 ],
 "metadata": {
  "kernelspec": {
   "display_name": "Python 3",
   "language": "python",
   "name": "python3"
  },
  "language_info": {
   "codemirror_mode": {
    "name": "ipython",
    "version": 3
   },
   "file_extension": ".py",
   "mimetype": "text/x-python",
   "name": "python",
   "nbconvert_exporter": "python",
   "pygments_lexer": "ipython3",
   "version": "3.7.1"
  }
 },
 "nbformat": 4,
 "nbformat_minor": 2
}
