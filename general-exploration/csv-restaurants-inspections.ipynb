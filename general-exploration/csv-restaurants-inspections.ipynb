{
 "cells": [
  {
   "cell_type": "code",
   "execution_count": 1,
   "metadata": {},
   "outputs": [],
   "source": [
    "import pandas as pd\n",
    "import numpy as np\n",
    "import matplotlib.pyplot as plt\n",
    "import datetime\n",
    "\n",
    "from bokeh.plotting import figure\n",
    "from bokeh.models import ColumnDataSource\n",
    "from bokeh.io import show, output_notebook\n",
    "from bokeh.transform import dodge\n",
    "from bokeh.core.properties import value"
   ]
  },
  {
   "cell_type": "code",
   "execution_count": 2,
   "metadata": {},
   "outputs": [
    {
     "name": "stderr",
     "output_type": "stream",
     "text": [
      "C:\\Users\\khanhdi\\Anaconda3\\lib\\site-packages\\IPython\\core\\interactiveshell.py:3020: DtypeWarning: Columns (6) have mixed types. Specify dtype option on import or set low_memory=False.\n",
      "  interactivity=interactivity, compiler=compiler, result=result)\n"
     ]
    },
    {
     "name": "stdout",
     "output_type": "stream",
     "text": [
      "<class 'pandas.core.frame.DataFrame'>\n",
      "RangeIndex: 381912 entries, 0 to 381911\n",
      "Data columns (total 18 columns):\n",
      "CAMIS                    381912 non-null int64\n",
      "DBA                      381403 non-null object\n",
      "BORO                     381912 non-null object\n",
      "BUILDING                 381684 non-null object\n",
      "STREET                   381911 non-null object\n",
      "ZIPCODE                  376361 non-null float64\n",
      "PHONE                    381903 non-null object\n",
      "CUISINE DESCRIPTION      381912 non-null object\n",
      "INSPECTION DATE          381912 non-null object\n",
      "ACTION                   380609 non-null object\n",
      "VIOLATION CODE           376126 non-null object\n",
      "VIOLATION DESCRIPTION    373524 non-null object\n",
      "CRITICAL FLAG            381912 non-null object\n",
      "SCORE                    363727 non-null float64\n",
      "GRADE                    192351 non-null object\n",
      "GRADE DATE               189820 non-null object\n",
      "RECORD DATE              381912 non-null object\n",
      "INSPECTION TYPE          380609 non-null object\n",
      "dtypes: float64(2), int64(1), object(15)\n",
      "memory usage: 52.4+ MB\n"
     ]
    }
   ],
   "source": [
    "data = pd.read_csv(\"dataset/restaurants-inspections.csv\")\n",
    "data.info()"
   ]
  },
  {
   "cell_type": "code",
   "execution_count": 3,
   "metadata": {},
   "outputs": [
    {
     "data": {
      "text/plain": [
       "0    05/11/2018\n",
       "1    05/11/2018\n",
       "2    05/18/2017\n",
       "3    05/18/2017\n",
       "4    02/18/2016\n",
       "Name: INSPECTION DATE, dtype: object"
      ]
     },
     "execution_count": 3,
     "metadata": {},
     "output_type": "execute_result"
    }
   ],
   "source": [
    "data['INSPECTION DATE'].head()"
   ]
  },
  {
   "cell_type": "code",
   "execution_count": 4,
   "metadata": {},
   "outputs": [
    {
     "data": {
      "text/plain": [
       "0    2018\n",
       "1    2018\n",
       "2    2017\n",
       "3    2017\n",
       "4    2016\n",
       "Name: INSPECTION DATE, dtype: int64"
      ]
     },
     "execution_count": 4,
     "metadata": {},
     "output_type": "execute_result"
    }
   ],
   "source": [
    "data['INSPECTION DATE'] = data['INSPECTION DATE'].apply(lambda x: datetime.datetime.strptime(x,'%m/%d/%Y').year)\n",
    "data['INSPECTION DATE'].head()"
   ]
  },
  {
   "cell_type": "code",
   "execution_count": 14,
   "metadata": {},
   "outputs": [
    {
     "name": "stdout",
     "output_type": "stream",
     "text": [
      "<class 'pandas.core.frame.DataFrame'>\n",
      "RangeIndex: 46 entries, 0 to 45\n",
      "Data columns (total 3 columns):\n",
      "BORO                46 non-null object\n",
      "INSPECTION DATE     46 non-null int64\n",
      "restaurant_count    46 non-null int64\n",
      "dtypes: int64(2), object(1)\n",
      "memory usage: 1.2+ KB\n"
     ]
    }
   ],
   "source": [
    "boro = data.groupby(['BORO','INSPECTION DATE','CAMIS']).count().reset_index()\n",
    "restaurant = boro.groupby(['BORO','INSPECTION DATE'])['CAMIS'].count().reset_index()\n",
    "restaurant = restaurant.rename(columns = {'CAMIS':'restaurant_count'})\n",
    "restaurant.info()"
   ]
  },
  {
   "cell_type": "code",
   "execution_count": 10,
   "metadata": {},
   "outputs": [
    {
     "data": {
      "text/plain": [
       "pandas.core.series.Series"
      ]
     },
     "execution_count": 10,
     "metadata": {},
     "output_type": "execute_result"
    }
   ],
   "source": [
    "bronx = restaurant.loc[restaurant['BORO'] == \"BRONX\"]['restaurant_count'].pct_change()\n",
    "type(bronx)"
   ]
  },
  {
   "cell_type": "code",
   "execution_count": 13,
   "metadata": {},
   "outputs": [
    {
     "data": {
      "text/plain": [
       "0           NaN\n",
       "1     -0.991228\n",
       "2      2.000000\n",
       "3     98.000000\n",
       "4      4.134680\n",
       "5      0.170492\n",
       "6      0.216807\n",
       "7     -0.465470\n",
       "8           NaN\n",
       "9     -0.991228\n",
       "10     2.000000\n",
       "11    98.000000\n",
       "12     4.134680\n",
       "13     0.170492\n",
       "14     0.216807\n",
       "15    -0.465470\n",
       "16          NaN\n",
       "17    -0.991228\n",
       "18     2.000000\n",
       "19    98.000000\n",
       "20     4.134680\n",
       "21     0.170492\n",
       "22     0.216807\n",
       "23    -0.465470\n",
       "24          NaN\n",
       "25    -0.991228\n",
       "26     2.000000\n",
       "27    98.000000\n",
       "28     4.134680\n",
       "29     0.170492\n",
       "30     0.216807\n",
       "31    -0.465470\n",
       "32          NaN\n",
       "33    -0.991228\n",
       "34     2.000000\n",
       "35    98.000000\n",
       "36     4.134680\n",
       "37     0.170492\n",
       "38     0.216807\n",
       "39    -0.465470\n",
       "40          NaN\n",
       "41    -0.991228\n",
       "42     2.000000\n",
       "43    98.000000\n",
       "44     4.134680\n",
       "45     0.170492\n",
       "46     0.216807\n",
       "47    -0.465470\n",
       "dtype: float64"
      ]
     },
     "execution_count": 13,
     "metadata": {},
     "output_type": "execute_result"
    }
   ],
   "source": [
    "boros = list(restaurant['BORO'].unique())\n",
    "growth = pd.Series()\n",
    "for boro in boros:\n",
    "    each = restaurant.loc[restaurant['BORO'] == \"BRONX\"]['restaurant_count'].pct_change()\n",
    "    growth = growth.append(each, ignore_index = True)\n",
    "growth\n",
    "    "
   ]
  },
  {
   "cell_type": "code",
   "execution_count": 18,
   "metadata": {},
   "outputs": [
    {
     "data": {
      "text/html": [
       "<div>\n",
       "<style scoped>\n",
       "    .dataframe tbody tr th:only-of-type {\n",
       "        vertical-align: middle;\n",
       "    }\n",
       "\n",
       "    .dataframe tbody tr th {\n",
       "        vertical-align: top;\n",
       "    }\n",
       "\n",
       "    .dataframe thead th {\n",
       "        text-align: right;\n",
       "    }\n",
       "</style>\n",
       "<table border=\"1\" class=\"dataframe\">\n",
       "  <thead>\n",
       "    <tr style=\"text-align: right;\">\n",
       "      <th></th>\n",
       "      <th>BORO</th>\n",
       "      <th>INSPECTION DATE</th>\n",
       "      <th>restaurant_count</th>\n",
       "      <th>growth_rate</th>\n",
       "    </tr>\n",
       "  </thead>\n",
       "  <tbody>\n",
       "    <tr>\n",
       "      <th>0</th>\n",
       "      <td>BRONX</td>\n",
       "      <td>1900</td>\n",
       "      <td>114</td>\n",
       "      <td>NaN</td>\n",
       "    </tr>\n",
       "    <tr>\n",
       "      <th>1</th>\n",
       "      <td>BRONX</td>\n",
       "      <td>2013</td>\n",
       "      <td>1</td>\n",
       "      <td>-0.991228</td>\n",
       "    </tr>\n",
       "    <tr>\n",
       "      <th>2</th>\n",
       "      <td>BRONX</td>\n",
       "      <td>2014</td>\n",
       "      <td>3</td>\n",
       "      <td>2.000000</td>\n",
       "    </tr>\n",
       "    <tr>\n",
       "      <th>3</th>\n",
       "      <td>BRONX</td>\n",
       "      <td>2015</td>\n",
       "      <td>297</td>\n",
       "      <td>98.000000</td>\n",
       "    </tr>\n",
       "    <tr>\n",
       "      <th>4</th>\n",
       "      <td>BRONX</td>\n",
       "      <td>2016</td>\n",
       "      <td>1525</td>\n",
       "      <td>4.134680</td>\n",
       "    </tr>\n",
       "  </tbody>\n",
       "</table>\n",
       "</div>"
      ],
      "text/plain": [
       "    BORO  INSPECTION DATE  restaurant_count  growth_rate\n",
       "0  BRONX             1900               114          NaN\n",
       "1  BRONX             2013                 1    -0.991228\n",
       "2  BRONX             2014                 3     2.000000\n",
       "3  BRONX             2015               297    98.000000\n",
       "4  BRONX             2016              1525     4.134680"
      ]
     },
     "execution_count": 18,
     "metadata": {},
     "output_type": "execute_result"
    }
   ],
   "source": [
    "restaurant['growth_rate'] = growth\n",
    "restaurant.head()"
   ]
  },
  {
   "cell_type": "code",
   "execution_count": 16,
   "metadata": {},
   "outputs": [
    {
     "data": {
      "text/plain": [
       "1    -0.991228\n",
       "2     2.000000\n",
       "3    98.000000\n",
       "4     4.134680\n",
       "5     0.170492\n",
       "dtype: float64"
      ]
     },
     "execution_count": 16,
     "metadata": {},
     "output_type": "execute_result"
    }
   ],
   "source": []
  },
  {
   "cell_type": "code",
   "execution_count": null,
   "metadata": {},
   "outputs": [],
   "source": []
  }
 ],
 "metadata": {
  "kernelspec": {
   "display_name": "Python 3",
   "language": "python",
   "name": "python3"
  },
  "language_info": {
   "codemirror_mode": {
    "name": "ipython",
    "version": 3
   },
   "file_extension": ".py",
   "mimetype": "text/x-python",
   "name": "python",
   "nbconvert_exporter": "python",
   "pygments_lexer": "ipython3",
   "version": "3.7.1"
  }
 },
 "nbformat": 4,
 "nbformat_minor": 2
}
