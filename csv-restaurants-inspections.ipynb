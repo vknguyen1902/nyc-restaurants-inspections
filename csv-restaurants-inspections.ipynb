{
 "cells": [
  {
   "cell_type": "code",
   "execution_count": 4,
   "metadata": {},
   "outputs": [],
   "source": [
    "import pandas as pd\n",
    "import numpy as np\n",
    "import matplotlib.pyplot as plt\n",
    "\n",
    "from bokeh.plotting import figure\n",
    "from bokeh.models import ColumnDataSource\n",
    "from bokeh.io import show, output_notebook\n",
    "from bokeh.transform import dodge\n",
    "from bokeh.core.properties import value"
   ]
  },
  {
   "cell_type": "code",
   "execution_count": 3,
   "metadata": {},
   "outputs": [
    {
     "name": "stderr",
     "output_type": "stream",
     "text": [
      "C:\\Users\\khanhdi\\Anaconda3\\lib\\site-packages\\IPython\\core\\interactiveshell.py:3020: DtypeWarning: Columns (6) have mixed types. Specify dtype option on import or set low_memory=False.\n",
      "  interactivity=interactivity, compiler=compiler, result=result)\n"
     ]
    },
    {
     "name": "stdout",
     "output_type": "stream",
     "text": [
      "<class 'pandas.core.frame.DataFrame'>\n",
      "RangeIndex: 381912 entries, 0 to 381911\n",
      "Data columns (total 18 columns):\n",
      "CAMIS                    381912 non-null int64\n",
      "DBA                      381403 non-null object\n",
      "BORO                     381912 non-null object\n",
      "BUILDING                 381684 non-null object\n",
      "STREET                   381911 non-null object\n",
      "ZIPCODE                  376361 non-null float64\n",
      "PHONE                    381903 non-null object\n",
      "CUISINE DESCRIPTION      381912 non-null object\n",
      "INSPECTION DATE          381912 non-null object\n",
      "ACTION                   380609 non-null object\n",
      "VIOLATION CODE           376126 non-null object\n",
      "VIOLATION DESCRIPTION    373524 non-null object\n",
      "CRITICAL FLAG            381912 non-null object\n",
      "SCORE                    363727 non-null float64\n",
      "GRADE                    192351 non-null object\n",
      "GRADE DATE               189820 non-null object\n",
      "RECORD DATE              381912 non-null object\n",
      "INSPECTION TYPE          380609 non-null object\n",
      "dtypes: float64(2), int64(1), object(15)\n",
      "memory usage: 52.4+ MB\n"
     ]
    }
   ],
   "source": [
    "data = pd.read_csv(\"dataset/restaurants-inspections.csv\")\n",
    "data.info()"
   ]
  },
  {
   "cell_type": "code",
   "execution_count": null,
   "metadata": {},
   "outputs": [],
   "source": []
  }
 ],
 "metadata": {
  "kernelspec": {
   "display_name": "Python 3",
   "language": "python",
   "name": "python3"
  },
  "language_info": {
   "codemirror_mode": {
    "name": "ipython",
    "version": 3
   },
   "file_extension": ".py",
   "mimetype": "text/x-python",
   "name": "python",
   "nbconvert_exporter": "python",
   "pygments_lexer": "ipython3",
   "version": "3.7.1"
  }
 },
 "nbformat": 4,
 "nbformat_minor": 2
}
